{
 "cells": [
  {
   "cell_type": "markdown",
   "id": "1d254590-87b0-4727-8fd7-32384c8268b9",
   "metadata": {},
   "source": [
    "# QCEW Filtration Data Kit"
   ]
  },
  {
   "cell_type": "markdown",
   "id": "24378428-d32a-4395-a121-1dab1ed7176b",
   "metadata": {},
   "source": [
    "## Introduction"
   ]
  },
  {
   "cell_type": "markdown",
   "id": "4bd4b852-4302-4e14-a82f-ba2485565319",
   "metadata": {},
   "source": [
    "This Jupyter Notebook is designed to filter Quarterly Census of Employment and Wages (QCEW) datasets, retreived from [qcew_data_kit_2](https://github.com/olivergwynn/qcew_data_kit/tree/main). The dataset(s) processed by this notebook saves a long-form file data for each variable, with a variety of identifying variables, including year, industry, and county."
   ]
  },
  {
   "cell_type": "markdown",
   "id": "e9ae8849-16d3-4b02-860e-2c4ddf5353d2",
   "metadata": {},
   "source": [
    "## Process Outline"
   ]
  },
  {
   "cell_type": "markdown",
   "id": "7fb1b139-e5a7-4700-9e95-18d23e8cb619",
   "metadata": {},
   "source": [
    "The process carried out by this workflow can be described as follows:\n",
    "  - Summarized annual and/or quarterly long-form QCEW files in input directory are split for each measured variable, and each variable is saved as stand-alone '.csv' files.\n",
    "  - For each processed long-from '.csv', a .resource.yaml file is created, following the Frictionless Data Resource specification. This file includes metadata about the CSV file, such as its name, path, format, and the schema it conforms to, as well as a hash code for integrity checking. Additionally, it contains descriptive information about the dataset and references to its source\n",
    "  - The YAML files for schemas and resource descriptors are used to make data more usable by simplifying its publication and consumption. By adhering to Frictionless standards, the script ensures that the datasets it produces are easily shareable, validatable, and integrable into a wide range of data tools and platforms."
   ]
  },
  {
   "cell_type": "markdown",
   "id": "e7452ef6-f4a7-4591-bdca-e5651a688912",
   "metadata": {},
   "source": [
    "## Setup"
   ]
  },
  {
   "cell_type": "markdown",
   "id": "47cd4635-1e8d-4968-bfcc-4f06026f9150",
   "metadata": {},
   "source": [
    "### Import required packages"
   ]
  },
  {
   "cell_type": "code",
   "execution_count": 8,
   "id": "0c369e44-61ec-44ab-8b2c-c0f99036bc66",
   "metadata": {},
   "outputs": [],
   "source": [
    "import pandas as pd\n",
    "import os\n",
    "import frictionless\n",
    "import sys\n",
    "import hashlib\n",
    "sys.path.append(os.path.normpath(\"../../morpc-common\"))\n",
    "import morpc"
   ]
  },
  {
   "cell_type": "markdown",
   "id": "a54b2348-09f4-466f-bf5c-6a5ee11c7200",
   "metadata": {},
   "source": [
    "### Parameters"
   ]
  },
  {
   "cell_type": "markdown",
   "id": "3556074e-da73-4d3d-8a09-bb792665ed16",
   "metadata": {},
   "source": [
    "#### Static parameters"
   ]
  },
  {
   "cell_type": "code",
   "execution_count": 9,
   "id": "20f1f19f-92ef-47d8-aa91-bfd858a18aa9",
   "metadata": {},
   "outputs": [],
   "source": [
    "Dtypes = {\n",
    "    'disclosure_code': 'str',\n",
    "    'industry_code': 'str',\n",
    "    'lq_disclosure_code': 'str',\n",
    "    'oty_disclosure_code': 'str'\n",
    "}\n",
    "\n",
    "OUTPUT_DIR = os.path.normpath(\"./output_data\")\n",
    "INPUT_DIR = os.path.normpath(\"./input_data\")\n",
    "\n",
    "# File name for long-form quarterly table\n",
    "QCEW_QUARTERLY_LONG_INPUT_NAME  = \"qcew_quarterly_long_summarized.csv\" \n",
    "QCEW_ANNUAL_LONG_INPUT_NAME  = \"qcew_annual_long_summarized.csv\" \n",
    "\n",
    "# Quarterly data paths\n",
    "QCEW_QUARTERLY_LONG_INPUT_PATH = os.path.join(INPUT_DIR, QCEW_QUARTERLY_LONG_INPUT_NAME)\n",
    "QCEW_ANNUAL_LONG_INPUT_PATH = os.path.join(INPUT_DIR, QCEW_ANNUAL_LONG_INPUT_NAME)\n",
    "\n",
    "LONG_TABLE_SCHEMA_FILENAME = \"morpc-qcew-long.schema.yaml\"\n",
    "LONG_TABLE_SCHEMA_PATH = os.path.join(OUTPUT_DIR, LONG_TABLE_SCHEMA_FILENAME)"
   ]
  },
  {
   "cell_type": "markdown",
   "id": "30a64cec-9675-4124-8032-22738866df5b",
   "metadata": {},
   "source": [
    "### Define inputs"
   ]
  },
  {
   "cell_type": "code",
   "execution_count": 10,
   "id": "d0c82ff3-247b-4bee-bb5f-80304c09c821",
   "metadata": {},
   "outputs": [
    {
     "name": "stdout",
     "output_type": "stream",
     "text": [
      "Long schema file stored in: output_data\\morpc-qcew-long.schema.yaml\n",
      "Summarized quarterly long-form QCEW data to be summarized must be stored in: input_data\\qcew_quarterly_long_summarized.csv\n",
      "Summarized annual long-form QCEW data to be summarized must be stored in: input_data\\qcew_annual_long_summarized.csv\n"
     ]
    }
   ],
   "source": [
    "print(\"Long schema file stored in: {}\".format(LONG_TABLE_SCHEMA_PATH))\n",
    "print(\"Summarized quarterly long-form QCEW data to be summarized must be stored in: {}\".format(QCEW_QUARTERLY_LONG_INPUT_PATH))\n",
    "print(\"Summarized annual long-form QCEW data to be summarized must be stored in: {}\".format(QCEW_ANNUAL_LONG_INPUT_PATH))"
   ]
  },
  {
   "cell_type": "markdown",
   "id": "d24f3ecc-0877-4c59-895e-00028340ae85",
   "metadata": {},
   "source": [
    "### Define output"
   ]
  },
  {
   "cell_type": "code",
   "execution_count": 11,
   "id": "96e1633c-bc5f-404f-be7a-7495751fe547",
   "metadata": {},
   "outputs": [
    {
     "name": "stdout",
     "output_type": "stream",
     "text": [
      "Filtered annual data files will be saved as: output_data\\qcew_annual_long_summarized_{variable}.csv\n",
      "Filtered annual resource files will be saved as: output_data\\qcew_annual_long_summarized_{variable}.resource.yaml\n",
      "Filtered quarterly data files will be saved as: output_data\\qcew_annual_long_summarized_{variable}.csv\n",
      "Filtered quarterly resource files will be saved as: output_data\\qcew_annual_long_summarized_{variable}.resource.yaml\n"
     ]
    }
   ],
   "source": [
    "print(\"Filtered annual data files will be saved as: {}\".format(os.path.join(OUTPUT_DIR, \"qcew_annual_long_summarized_{variable}.csv\")))\n",
    "print(\"Filtered annual resource files will be saved as: {}\".format(os.path.join(OUTPUT_DIR, \"qcew_annual_long_summarized_{variable}.resource.yaml\")))\n",
    "print(\"Filtered quarterly data files will be saved as: {}\".format(os.path.join(OUTPUT_DIR, \"qcew_annual_long_summarized_{variable}.csv\")))\n",
    "print(\"Filtered quarterly resource files will be saved as: {}\".format(os.path.join(OUTPUT_DIR, \"qcew_annual_long_summarized_{variable}.resource.yaml\")))"
   ]
  },
  {
   "cell_type": "markdown",
   "id": "12e39036-80fe-40af-8f8a-5accdbf55e9b",
   "metadata": {},
   "source": [
    "### Method to create resource file and validate long-form outputs each variable"
   ]
  },
  {
   "cell_type": "code",
   "execution_count": 12,
   "id": "23473fcf-906d-4eca-9523-e546f7414cec",
   "metadata": {},
   "outputs": [],
   "source": [
    "def is_numeric(val):\n",
    "    \"\"\"Check if the value is numeric.\"\"\"\n",
    "    try:\n",
    "        float(val)\n",
    "        return True\n",
    "    except ValueError:\n",
    "        return False\n",
    "\n",
    "def process_qcew_data(path):\n",
    "    df_name = os.path.basename(path)\n",
    "    df_resource_path = path.replace(\".csv\", \".resource.yaml\")\n",
    "    df = pd.read_csv(path, dtype=Dtypes)\n",
    "\n",
    "    # Parsing data for naming convention\n",
    "    max_year = df['year'].max()\n",
    "    min_year = df['year'].min()\n",
    "    variable_name = df['variable'].iloc[0] \n",
    "    # Determine if the data is annual or quarterly\n",
    "    if is_numeric(df['variable'].iloc[0]):\n",
    "        period_type = 'quarterly'\n",
    "    else:\n",
    "        period_type = 'annual'\n",
    "\n",
    "    # Update title and description with the county name\n",
    "    title = f\"Compiled QCEW County Data, {period_type.capitalize()}, {min_year}-{max_year} (wide form), Variable: {variable_name}\"\n",
    "    description = f\"Variable: {variable_name} data for counties in MOPRC region and summary {min_year}-{max_year}, derived from the U.S. Bureau of Labor Statistics. Data period: {period_type.capitalize()}.\"\n",
    "\n",
    "    # Resource creation for WIDE QUARTERLY\n",
    "    if not df.empty:\n",
    "        acsResource = {\n",
    "            \"name\": f\"qcew_{period_type}_{min_year}_{max_year}_{variable_name}\",\n",
    "            \"title\": title,\n",
    "            \"description\": description,\n",
    "            \"path\": df_name,\n",
    "            \"format\": \"csv\",\n",
    "            \"mediatype\": \"text/csv\",\n",
    "            \"encoding\": \"utf-8\",\n",
    "            \"bytes\": os.path.getsize(path),\n",
    "            \"hash\": morpc.md5(path),\n",
    "            \"schema\": LONG_TABLE_SCHEMA_FILENAME,\n",
    "            \"profile\": 'tabular-data-resource'\n",
    "        }\n",
    "\n",
    "        # Create the resource object\n",
    "        resource = frictionless.Resource(acsResource)\n",
    "\n",
    "        print(\"Writing resource file to {}\".format(df_resource_path))\n",
    "        cwd = os.getcwd()\n",
    "        os.chdir(os.path.dirname(df_resource_path))\n",
    "        dummy = resource.to_yaml(os.path.basename(df_resource_path))\n",
    "        os.chdir(cwd)\n",
    "\n",
    "        print(\"Validating resource on disk (including data and schema). This may take some time.\")\n",
    "        resourceOnDisk =  frictionless.Resource(df_resource_path)\n",
    "        results = resourceOnDisk.validate()\n",
    "        if results.valid:\n",
    "            print(\"Resource is valid\\n\")\n",
    "        else:\n",
    "            print(\"ERROR: Resource is NOT valid. Errors follow.\\n\")\n",
    "            print(results)\n",
    "            raise RuntimeError(\"Resource validation failed.\")\n"
   ]
  },
  {
   "cell_type": "markdown",
   "id": "d41ccf2b-dcce-455b-a00a-fd1e8b4c966f",
   "metadata": {},
   "source": [
    "## Filtering annual QCEW data"
   ]
  },
  {
   "cell_type": "code",
   "execution_count": 13,
   "id": "e4b422b2-a7b4-45c0-b657-8b759aa190db",
   "metadata": {},
   "outputs": [
    {
     "name": "stdout",
     "output_type": "stream",
     "text": [
      "Writing resource file to output_data\\qcew_annual_long_summarized_annual_avg_emplvl.resource.yaml\n",
      "Validating resource on disk (including data and schema). This may take some time.\n",
      "Resource is valid\n",
      "\n",
      "Writing resource file to output_data\\qcew_annual_long_summarized_annual_avg_estabs.resource.yaml\n",
      "Validating resource on disk (including data and schema). This may take some time.\n",
      "Resource is valid\n",
      "\n",
      "Writing resource file to output_data\\qcew_annual_long_summarized_annual_avg_wkly_wage.resource.yaml\n",
      "Validating resource on disk (including data and schema). This may take some time.\n",
      "Resource is valid\n",
      "\n",
      "Writing resource file to output_data\\qcew_annual_long_summarized_annual_contributions.resource.yaml\n",
      "Validating resource on disk (including data and schema). This may take some time.\n",
      "Resource is valid\n",
      "\n",
      "Writing resource file to output_data\\qcew_annual_long_summarized_avg_annual_pay.resource.yaml\n",
      "Validating resource on disk (including data and schema). This may take some time.\n",
      "Resource is valid\n",
      "\n",
      "Writing resource file to output_data\\qcew_annual_long_summarized_lq_annual_avg_emplvl.resource.yaml\n",
      "Validating resource on disk (including data and schema). This may take some time.\n",
      "Resource is valid\n",
      "\n",
      "Writing resource file to output_data\\qcew_annual_long_summarized_lq_annual_avg_estabs.resource.yaml\n",
      "Validating resource on disk (including data and schema). This may take some time.\n",
      "Resource is valid\n",
      "\n",
      "Writing resource file to output_data\\qcew_annual_long_summarized_lq_annual_avg_wkly_wage.resource.yaml\n",
      "Validating resource on disk (including data and schema). This may take some time.\n",
      "Resource is valid\n",
      "\n",
      "Writing resource file to output_data\\qcew_annual_long_summarized_lq_annual_contributions.resource.yaml\n",
      "Validating resource on disk (including data and schema). This may take some time.\n",
      "Resource is valid\n",
      "\n",
      "Writing resource file to output_data\\qcew_annual_long_summarized_lq_avg_annual_pay.resource.yaml\n",
      "Validating resource on disk (including data and schema). This may take some time.\n",
      "Resource is valid\n",
      "\n",
      "Writing resource file to output_data\\qcew_annual_long_summarized_lq_taxable_annual_wages.resource.yaml\n",
      "Validating resource on disk (including data and schema). This may take some time.\n",
      "Resource is valid\n",
      "\n",
      "Writing resource file to output_data\\qcew_annual_long_summarized_lq_total_annual_wages.resource.yaml\n",
      "Validating resource on disk (including data and schema). This may take some time.\n",
      "Resource is valid\n",
      "\n",
      "Writing resource file to output_data\\qcew_annual_long_summarized_oty_annual_avg_emplvl_chg.resource.yaml\n",
      "Validating resource on disk (including data and schema). This may take some time.\n",
      "Resource is valid\n",
      "\n",
      "Writing resource file to output_data\\qcew_annual_long_summarized_oty_annual_avg_emplvl_pct_chg.resource.yaml\n",
      "Validating resource on disk (including data and schema). This may take some time.\n",
      "Resource is valid\n",
      "\n",
      "Writing resource file to output_data\\qcew_annual_long_summarized_oty_annual_avg_estabs_chg.resource.yaml\n",
      "Validating resource on disk (including data and schema). This may take some time.\n",
      "Resource is valid\n",
      "\n",
      "Writing resource file to output_data\\qcew_annual_long_summarized_oty_annual_avg_estabs_pct_chg.resource.yaml\n",
      "Validating resource on disk (including data and schema). This may take some time.\n",
      "Resource is valid\n",
      "\n",
      "Writing resource file to output_data\\qcew_annual_long_summarized_oty_annual_avg_wkly_wage_chg.resource.yaml\n",
      "Validating resource on disk (including data and schema). This may take some time.\n",
      "Resource is valid\n",
      "\n",
      "Writing resource file to output_data\\qcew_annual_long_summarized_oty_annual_avg_wkly_wage_pct_chg.resource.yaml\n",
      "Validating resource on disk (including data and schema). This may take some time.\n",
      "Resource is valid\n",
      "\n",
      "Writing resource file to output_data\\qcew_annual_long_summarized_oty_annual_contributions_chg.resource.yaml\n",
      "Validating resource on disk (including data and schema). This may take some time.\n",
      "Resource is valid\n",
      "\n",
      "Writing resource file to output_data\\qcew_annual_long_summarized_oty_annual_contributions_pct_chg.resource.yaml\n",
      "Validating resource on disk (including data and schema). This may take some time.\n",
      "Resource is valid\n",
      "\n",
      "Writing resource file to output_data\\qcew_annual_long_summarized_oty_avg_annual_pay_chg.resource.yaml\n",
      "Validating resource on disk (including data and schema). This may take some time.\n",
      "Resource is valid\n",
      "\n",
      "Writing resource file to output_data\\qcew_annual_long_summarized_oty_avg_annual_pay_pct_chg.resource.yaml\n",
      "Validating resource on disk (including data and schema). This may take some time.\n",
      "Resource is valid\n",
      "\n",
      "Writing resource file to output_data\\qcew_annual_long_summarized_oty_taxable_annual_wages_chg.resource.yaml\n",
      "Validating resource on disk (including data and schema). This may take some time.\n",
      "Resource is valid\n",
      "\n",
      "Writing resource file to output_data\\qcew_annual_long_summarized_oty_taxable_annual_wages_pct_chg.resource.yaml\n",
      "Validating resource on disk (including data and schema). This may take some time.\n",
      "Resource is valid\n",
      "\n",
      "Writing resource file to output_data\\qcew_annual_long_summarized_oty_total_annual_wages_chg.resource.yaml\n",
      "Validating resource on disk (including data and schema). This may take some time.\n",
      "Resource is valid\n",
      "\n",
      "Writing resource file to output_data\\qcew_annual_long_summarized_oty_total_annual_wages_pct_chg.resource.yaml\n",
      "Validating resource on disk (including data and schema). This may take some time.\n",
      "Resource is valid\n",
      "\n",
      "Writing resource file to output_data\\qcew_annual_long_summarized_taxable_annual_wages.resource.yaml\n",
      "Validating resource on disk (including data and schema). This may take some time.\n",
      "Resource is valid\n",
      "\n",
      "Writing resource file to output_data\\qcew_annual_long_summarized_total_annual_wages.resource.yaml\n",
      "Validating resource on disk (including data and schema). This may take some time.\n",
      "Resource is valid\n",
      "\n"
     ]
    }
   ],
   "source": [
    "# Check if the file exists and is not empty\n",
    "if os.path.exists(QCEW_ANNUAL_LONG_INPUT_PATH) and os.path.getsize(QCEW_ANNUAL_LONG_INPUT_PATH) > 0:\n",
    "    # Load the CSV file\n",
    "    df_annual = pd.read_csv(QCEW_ANNUAL_LONG_INPUT_PATH, dtype=Dtypes)\n",
    "\n",
    "    if not df_annual.empty:\n",
    "        # Get the base name of the input file (without extension)\n",
    "        base_name = os.path.splitext(os.path.basename(QCEW_ANNUAL_LONG_INPUT_PATH))[0]\n",
    "\n",
    "        # Group by 'variable' and save each group to a separate CSV file\n",
    "        for variable, group in df_annual.groupby('variable'):\n",
    "            output_file = os.path.join(OUTPUT_DIR, f'{base_name}_{variable}.csv')\n",
    "            group.to_csv(output_file, index=False)\n",
    "            process_qcew_data(output_file)\n",
    "    else:\n",
    "        print(\"No annual data to melt\")\n",
    "else:\n",
    "    print(f\"{QCEW_ANNUAL_LONG_INPUT_PATH} does not exist or is empty.\")"
   ]
  },
  {
   "cell_type": "markdown",
   "id": "8bfe2f15-8fdc-406f-b690-86c084ebc5ab",
   "metadata": {},
   "source": [
    "## Filtering quarterly QCEW data"
   ]
  },
  {
   "cell_type": "code",
   "execution_count": 14,
   "id": "334351c5-e3b8-496e-912f-12d37c70067d",
   "metadata": {},
   "outputs": [
    {
     "name": "stdout",
     "output_type": "stream",
     "text": [
      "Writing resource file to output_data\\qcew_annual_long_summarized_avg_wkly_wage.resource.yaml\n",
      "Validating resource on disk (including data and schema). This may take some time.\n",
      "Resource is valid\n",
      "\n",
      "Writing resource file to output_data\\qcew_annual_long_summarized_lq_avg_wkly_wage.resource.yaml\n",
      "Validating resource on disk (including data and schema). This may take some time.\n",
      "Resource is valid\n",
      "\n",
      "Writing resource file to output_data\\qcew_annual_long_summarized_lq_month1_emplvl.resource.yaml\n",
      "Validating resource on disk (including data and schema). This may take some time.\n",
      "Resource is valid\n",
      "\n",
      "Writing resource file to output_data\\qcew_annual_long_summarized_lq_month2_emplvl.resource.yaml\n",
      "Validating resource on disk (including data and schema). This may take some time.\n",
      "Resource is valid\n",
      "\n",
      "Writing resource file to output_data\\qcew_annual_long_summarized_lq_month3_emplvl.resource.yaml\n",
      "Validating resource on disk (including data and schema). This may take some time.\n",
      "Resource is valid\n",
      "\n",
      "Writing resource file to output_data\\qcew_annual_long_summarized_lq_qtrly_contributions.resource.yaml\n",
      "Validating resource on disk (including data and schema). This may take some time.\n",
      "Resource is valid\n",
      "\n",
      "Writing resource file to output_data\\qcew_annual_long_summarized_lq_qtrly_estabs.resource.yaml\n",
      "Validating resource on disk (including data and schema). This may take some time.\n",
      "Resource is valid\n",
      "\n",
      "Writing resource file to output_data\\qcew_annual_long_summarized_lq_taxable_qtrly_wages.resource.yaml\n",
      "Validating resource on disk (including data and schema). This may take some time.\n",
      "Resource is valid\n",
      "\n",
      "Writing resource file to output_data\\qcew_annual_long_summarized_lq_total_qtrly_wages.resource.yaml\n",
      "Validating resource on disk (including data and schema). This may take some time.\n",
      "Resource is valid\n",
      "\n",
      "Writing resource file to output_data\\qcew_annual_long_summarized_month1_emplvl.resource.yaml\n",
      "Validating resource on disk (including data and schema). This may take some time.\n",
      "Resource is valid\n",
      "\n",
      "Writing resource file to output_data\\qcew_annual_long_summarized_month2_emplvl.resource.yaml\n",
      "Validating resource on disk (including data and schema). This may take some time.\n",
      "Resource is valid\n",
      "\n",
      "Writing resource file to output_data\\qcew_annual_long_summarized_month3_emplvl.resource.yaml\n",
      "Validating resource on disk (including data and schema). This may take some time.\n",
      "Resource is valid\n",
      "\n",
      "Writing resource file to output_data\\qcew_annual_long_summarized_oty_avg_wkly_wage_chg.resource.yaml\n",
      "Validating resource on disk (including data and schema). This may take some time.\n",
      "Resource is valid\n",
      "\n",
      "Writing resource file to output_data\\qcew_annual_long_summarized_oty_avg_wkly_wage_pct_chg.resource.yaml\n",
      "Validating resource on disk (including data and schema). This may take some time.\n",
      "Resource is valid\n",
      "\n",
      "Writing resource file to output_data\\qcew_annual_long_summarized_oty_month1_emplvl_chg.resource.yaml\n",
      "Validating resource on disk (including data and schema). This may take some time.\n",
      "Resource is valid\n",
      "\n",
      "Writing resource file to output_data\\qcew_annual_long_summarized_oty_month1_emplvl_pct_chg.resource.yaml\n",
      "Validating resource on disk (including data and schema). This may take some time.\n",
      "Resource is valid\n",
      "\n",
      "Writing resource file to output_data\\qcew_annual_long_summarized_oty_month2_emplvl_chg.resource.yaml\n",
      "Validating resource on disk (including data and schema). This may take some time.\n",
      "Resource is valid\n",
      "\n",
      "Writing resource file to output_data\\qcew_annual_long_summarized_oty_month2_emplvl_pct_chg.resource.yaml\n",
      "Validating resource on disk (including data and schema). This may take some time.\n",
      "Resource is valid\n",
      "\n",
      "Writing resource file to output_data\\qcew_annual_long_summarized_oty_month3_emplvl_chg.resource.yaml\n",
      "Validating resource on disk (including data and schema). This may take some time.\n",
      "Resource is valid\n",
      "\n",
      "Writing resource file to output_data\\qcew_annual_long_summarized_oty_month3_emplvl_pct_chg.resource.yaml\n",
      "Validating resource on disk (including data and schema). This may take some time.\n",
      "Resource is valid\n",
      "\n",
      "Writing resource file to output_data\\qcew_annual_long_summarized_oty_qtrly_contributions_chg.resource.yaml\n",
      "Validating resource on disk (including data and schema). This may take some time.\n",
      "Resource is valid\n",
      "\n",
      "Writing resource file to output_data\\qcew_annual_long_summarized_oty_qtrly_contributions_pct_chg.resource.yaml\n",
      "Validating resource on disk (including data and schema). This may take some time.\n",
      "Resource is valid\n",
      "\n",
      "Writing resource file to output_data\\qcew_annual_long_summarized_oty_qtrly_estabs_chg.resource.yaml\n",
      "Validating resource on disk (including data and schema). This may take some time.\n",
      "Resource is valid\n",
      "\n",
      "Writing resource file to output_data\\qcew_annual_long_summarized_oty_qtrly_estabs_pct_chg.resource.yaml\n",
      "Validating resource on disk (including data and schema). This may take some time.\n",
      "Resource is valid\n",
      "\n",
      "Writing resource file to output_data\\qcew_annual_long_summarized_oty_taxable_qtrly_wages_chg.resource.yaml\n",
      "Validating resource on disk (including data and schema). This may take some time.\n",
      "Resource is valid\n",
      "\n",
      "Writing resource file to output_data\\qcew_annual_long_summarized_oty_taxable_qtrly_wages_pct_chg.resource.yaml\n",
      "Validating resource on disk (including data and schema). This may take some time.\n",
      "Resource is valid\n",
      "\n",
      "Writing resource file to output_data\\qcew_annual_long_summarized_oty_total_qtrly_wages_chg.resource.yaml\n",
      "Validating resource on disk (including data and schema). This may take some time.\n",
      "Resource is valid\n",
      "\n",
      "Writing resource file to output_data\\qcew_annual_long_summarized_oty_total_qtrly_wages_pct_chg.resource.yaml\n",
      "Validating resource on disk (including data and schema). This may take some time.\n",
      "Resource is valid\n",
      "\n",
      "Writing resource file to output_data\\qcew_annual_long_summarized_qtrly_contributions.resource.yaml\n",
      "Validating resource on disk (including data and schema). This may take some time.\n",
      "Resource is valid\n",
      "\n",
      "Writing resource file to output_data\\qcew_annual_long_summarized_qtrly_estabs.resource.yaml\n",
      "Validating resource on disk (including data and schema). This may take some time.\n",
      "Resource is valid\n",
      "\n",
      "Writing resource file to output_data\\qcew_annual_long_summarized_taxable_qtrly_wages.resource.yaml\n",
      "Validating resource on disk (including data and schema). This may take some time.\n",
      "Resource is valid\n",
      "\n",
      "Writing resource file to output_data\\qcew_annual_long_summarized_total_qtrly_wages.resource.yaml\n",
      "Validating resource on disk (including data and schema). This may take some time.\n",
      "Resource is valid\n",
      "\n"
     ]
    }
   ],
   "source": [
    "# Check if the file exists and is not empty\n",
    "if os.path.exists(QCEW_QUARTERLY_LONG_INPUT_PATH) and os.path.getsize(QCEW_QUARTERLY_LONG_INPUT_PATH) > 0:\n",
    "    # Load the CSV file\n",
    "    df_quarterly = pd.read_csv(QCEW_QUARTERLY_LONG_INPUT_PATH, dtype=Dtypes)\n",
    "\n",
    "    if not df_quarterly.empty:\n",
    "        # Get the base name of the input file (without extension)\n",
    "        base_name = os.path.splitext(os.path.basename(QCEW_ANNUAL_LONG_INPUT_PATH))[0]\n",
    "\n",
    "        # Group by 'variable' and save each group to a separate CSV file\n",
    "        for variable, group in df_quarterly.groupby('variable'):\n",
    "            output_file = os.path.join(OUTPUT_DIR, f'{base_name}_{variable}.csv')\n",
    "            group.to_csv(output_file, index=False)\n",
    "            process_qcew_data(output_file)\n",
    "    else:\n",
    "        print(\"No quarterly data to melt\")\n",
    "else:\n",
    "    print(f\"{QCEW_QUARTERLY_LONG_INPUT_PATH} does not exist or is empty.\")"
   ]
  },
  {
   "cell_type": "code",
   "execution_count": null,
   "id": "7167c472-d673-4ce2-924f-5c2d0cad06fc",
   "metadata": {},
   "outputs": [],
   "source": []
  }
 ],
 "metadata": {
  "kernelspec": {
   "display_name": "Python 3 (ipykernel)",
   "language": "python",
   "name": "python3"
  },
  "language_info": {
   "codemirror_mode": {
    "name": "ipython",
    "version": 3
   },
   "file_extension": ".py",
   "mimetype": "text/x-python",
   "name": "python",
   "nbconvert_exporter": "python",
   "pygments_lexer": "ipython3",
   "version": "3.12.3"
  }
 },
 "nbformat": 4,
 "nbformat_minor": 5
}
